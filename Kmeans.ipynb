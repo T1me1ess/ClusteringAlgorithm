{
 "cells": [
  {
   "cell_type": "code",
   "execution_count": 19,
   "id": "3496619d",
   "metadata": {},
   "outputs": [],
   "source": [
    "import csv\n",
    "import numpy as np\n",
    "import pandas as pd\n",
    "import matplotlib.pyplot as plt\n",
    "from sklearn.cluster import KMeans"
   ]
  },
  {
   "cell_type": "code",
   "execution_count": 20,
   "id": "559da6ce",
   "metadata": {},
   "outputs": [],
   "source": [
    "df = pd.read_csv('Fortune 500 2017 - Fortune 500.csv', encoding='utf-8')"
   ]
  },
  {
   "cell_type": "code",
   "execution_count": 21,
   "id": "3d49b344",
   "metadata": {},
   "outputs": [],
   "source": [
    "remove_columns =['Rank','Employees','Website','Hqlocation','Hqaddr','Hqcity','Hqzip', 'Hqtel',\n",
    "                 'Hqstate','Hqaddr','Ceo','Ceo-title', 'Address', 'Ticker','Sector','Industry',\n",
    "                 'Fullname', 'Revenues', 'Revchange','Prftchange','Totshequity','Title']"
   ]
  },
  {
   "cell_type": "code",
   "execution_count": 22,
   "id": "d3e7f704",
   "metadata": {},
   "outputs": [],
   "source": [
    "df = df.drop(columns= remove_columns,axis = 1)"
   ]
  },
  {
   "cell_type": "code",
   "execution_count": 23,
   "id": "e92b3176",
   "metadata": {},
   "outputs": [
    {
     "name": "stdout",
     "output_type": "stream",
     "text": [
      "Index(['Profits', 'Assets'], dtype='object')\n"
     ]
    }
   ],
   "source": [
    "print(df.columns)"
   ]
  },
  {
   "cell_type": "code",
   "execution_count": 24,
   "id": "11bef3c3",
   "metadata": {},
   "outputs": [
    {
     "name": "stdout",
     "output_type": "stream",
     "text": [
      "<class '_csv.reader'>\n"
     ]
    }
   ],
   "source": [
    "with open('data_new.csv') as csvfile:\n",
    "    reader = csv.reader(csvfile)\n",
    "    print(type(reader))"
   ]
  },
  {
   "cell_type": "code",
   "execution_count": 25,
   "id": "9ffd3b58",
   "metadata": {},
   "outputs": [],
   "source": [
    "data = pd.read_csv('data_new.csv', encoding='utf-8')"
   ]
  },
  {
   "cell_type": "code",
   "execution_count": 26,
   "id": "3153dbcc",
   "metadata": {},
   "outputs": [],
   "source": [
    "with open('news_data.txt', 'a+', encoding='utf-8') as f:\n",
    "    for line in data.values:\n",
    "        f.write((str(line[0]) + ',' + str(line[1]) + '\\n'))"
   ]
  },
  {
   "cell_type": "code",
   "execution_count": 27,
   "id": "ac9b8192",
   "metadata": {},
   "outputs": [],
   "source": [
    "x = []"
   ]
  },
  {
   "cell_type": "code",
   "execution_count": 28,
   "id": "62cfdffd",
   "metadata": {},
   "outputs": [],
   "source": [
    "f = open('news_data.txt', 'r')"
   ]
  },
  {
   "cell_type": "code",
   "execution_count": 29,
   "id": "63924496",
   "metadata": {},
   "outputs": [],
   "source": [
    "for line in f:\n",
    "    x.append(np.array(line.split(','), dtype = np.string_).astype(np.float64))"
   ]
  },
  {
   "cell_type": "code",
   "execution_count": 30,
   "id": "8dc7294e",
   "metadata": {},
   "outputs": [],
   "source": [
    "kmeans = KMeans(n_clusters = 3, random_state = 0).fit(x)"
   ]
  },
  {
   "cell_type": "code",
   "execution_count": 31,
   "id": "49e0a377",
   "metadata": {},
   "outputs": [],
   "source": [
    "colors = ['red', 'green', 'blue']"
   ]
  },
  {
   "cell_type": "code",
   "execution_count": 32,
   "id": "58169fe9",
   "metadata": {},
   "outputs": [
    {
     "data": {
      "image/png": "[encoded data removed]",
      "text/plain": [
       "<Figure size 432x288 with 1 Axes>"
      ]
     },
     "metadata": {
      "needs_background": "light"
     },
     "output_type": "display_data"
    }
   ],
   "source": [
    "for i, cluster in enumerate(kmeans.labels_):\n",
    "    plt.scatter(x[i][0], x[i][1], color=colors[cluster])\n",
    "plt.show()"
   ]
  },
  {
   "cell_type": "code",
   "execution_count": null,
   "id": "d33c581a",
   "metadata": {},
   "outputs": [],
   "source": []
  },
  {
   "cell_type": "code",
   "execution_count": null,
   "id": "b19edcf2",
   "metadata": {},
   "outputs": [],
   "source": []
  }
 ],
 "metadata": {
  "kernelspec": {
   "display_name": "Python 3 (ipykernel)",
   "language": "python",
   "name": "python3"
  },
  "language_info": {
   "codemirror_mode": {
    "name": "ipython",
    "version": 3
   },
   "file_extension": ".py",
   "mimetype": "text/x-python",
   "name": "python",
   "nbconvert_exporter": "python",
   "pygments_lexer": "ipython3",
   "version": "3.9.12"
  }
 },
 "nbformat": 4,
 "nbformat_minor": 5
}
